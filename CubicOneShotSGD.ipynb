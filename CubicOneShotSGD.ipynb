{
  "nbformat": 4,
  "nbformat_minor": 0,
  "metadata": {
    "colab": {
      "name": "CubicOneShotSGD.ipynb",
      "provenance": [],
      "collapsed_sections": [],
      "toc_visible": true,
      "authorship_tag": "ABX9TyN8TYbx6cCH+6NbOeMSSuNm",
      "include_colab_link": true
    },
    "kernelspec": {
      "name": "python3",
      "display_name": "Python 3"
    },
    "language_info": {
      "name": "python"
    },
    "accelerator": "GPU"
  },
  "cells": [
    {
      "cell_type": "markdown",
      "metadata": {
        "id": "view-in-github",
        "colab_type": "text"
      },
      "source": [
        "<a href=\"https://colab.research.google.com/github/zeligism/ConGAN/blob/main/CubicOneShotSGD.ipynb\" target=\"_parent\"><img src=\"https://colab.research.google.com/assets/colab-badge.svg\" alt=\"Open In Colab\"/></a>"
      ]
    },
    {
      "cell_type": "code",
      "execution_count": 25,
      "metadata": {
        "id": "pkmUPE57u1F2"
      },
      "outputs": [],
      "source": [
        "import torch\n",
        "import torch.nn as nn\n",
        "import torch.optim\n",
        "import torch.utils.data as data_utils\n",
        "import numpy as np\n",
        "import matplotlib.pyplot as plt\n",
        "from collections import defaultdict"
      ]
    },
    {
      "cell_type": "markdown",
      "source": [
        "### Download datasets"
      ],
      "metadata": {
        "id": "bw2XAxQalF4N"
      }
    },
    {
      "cell_type": "code",
      "source": [
        "%%bash\n",
        "# Download some regression datasets\n",
        "DATASETS=(\"abalone\" \"bodyfat\" \"cpusmall\" \"housing\" \"mg\" \"mpg\" \"space_ga\")\n",
        "BASE_LINK=\"https://www.csie.ntu.edu.tw/~cjlin/libsvmtools/datasets/regression\"\n",
        "for dataset in \"${DATASETS[@]}\"\n",
        "    do [[ ! -f \"${dataset}\" ]] && wget -O \"${dataset}\" \"${BASE_LINK}/${dataset}_scale\"\n",
        "done"
      ],
      "metadata": {
        "id": "3gqiAvv7h5oD"
      },
      "execution_count": 26,
      "outputs": []
    },
    {
      "cell_type": "code",
      "source": [
        "DATASET_FEATURES = {\n",
        "    \"abalone\": 8,\n",
        "    \"bodyfat\": 14,\n",
        "    \"cpusmall\": 12,\n",
        "    \"housing\": 13,\n",
        "    \"mg\": 6,\n",
        "    \"mpg\": 7,\n",
        "    \"space_ga\": 6,\n",
        "}"
      ],
      "metadata": {
        "id": "hj3e313TlEJb"
      },
      "execution_count": 27,
      "outputs": []
    },
    {
      "cell_type": "markdown",
      "source": [
        "## Args"
      ],
      "metadata": {
        "id": "1-ZG6h3t6bKF"
      }
    },
    {
      "cell_type": "code",
      "source": [
        "# Easy to transfer to code using argparse\n",
        "class Args:\n",
        "    def __init__(self):\n",
        "        self.dataset = \"cpusmall\"\n",
        "        self.feature_dim = DATASET_FEATURES[self.dataset]\n",
        "        self.output_dim = 1\n",
        "        self.device = \"cuda:0\"\n",
        "        self.test_size = 0.2\n",
        "\n",
        "        self.num_models = 10\n",
        "        self.num_iters = 100\n",
        "        self.base_lr = 1e-2\n",
        "        self.lrs = [self.base_lr] * self.num_models\n",
        "        self.batch_size = 1\n",
        "\n",
        "args = Args()"
      ],
      "metadata": {
        "id": "9uc_nfMYvf0A"
      },
      "execution_count": 28,
      "outputs": []
    },
    {
      "cell_type": "code",
      "source": [
        "!echo \"{args.dataset}:\" && head \"{args.dataset}\""
      ],
      "metadata": {
        "colab": {
          "base_uri": "https://localhost:8080/"
        },
        "id": "HJd4jK2vkBE_",
        "outputId": "9d075c64-98e5-46fc-b634-a7020c94e8a7"
      },
      "execution_count": 29,
      "outputs": [
        {
          "output_type": "stream",
          "name": "stdout",
          "text": [
            "cpusmall:\n",
            "90 1:-0.993496 2:-0.993043 3:-0.850291 4:-0.963479 5:-0.960727 6:-0.900596 7:-0.96642 8:-0.863996 9:-0.606175 10:-0.999291 11:0.0811894 12:0.651101 \n",
            "88 1:-0.998916 2:-1 3:-0.667959 4:-0.925075 5:-0.965498 6:-0.960239 7:-0.959704 8:-0.966094 9:-0.952624 10:-0.998583 11:-0.987471 12:0.00921591 \n",
            "85 1:-0.932791 2:-0.732174 3:-0.402939 4:-0.90512 5:-0.941641 6:-0.860835 7:-0.952989 8:-0.610616 9:-0.703123 10:-0.997023 11:-0.966422 12:0.172073 \n",
            "81 1:-0.99458 2:-1 3:-0.255168 4:-0.905873 5:-0.937603 6:-0.90159 7:-0.913365 8:-0.584773 9:-0.807273 10:-1 11:-0.970264 12:-0.132837 \n",
            "79 1:-0.954472 2:-0.808696 3:-0.379845 4:-0.908509 5:-0.913012 6:-0.741551 7:-0.845534 8:-0.844036 9:-0.413705 10:-0.998299 11:-0.953892 12:-0.096104 \n",
            "92 1:-0.99458 2:-0.996522 3:-0.744348 4:-0.95256 5:-0.970637 6:-0.960239 7:-0.939557 8:-0.825904 9:-0.882749 10:-0.99915 11:-0.626462 12:-0.0988697 \n",
            "82 1:-0.996748 2:-1 3:-0.915052 4:-0.977786 5:-0.985318 6:-0.701789 7:-0.899261 8:-0.930978 9:-0.956401 10:-1 11:-0.960909 12:0.610732 \n",
            "90 1:-0.992412 2:-0.982609 3:-0.801034 4:-0.911898 5:-0.958524 6:-0.960239 7:-0.979852 8:-0.43147 9:-0.254727 10:-0.997307 11:-0.586201 12:-0.075354 \n",
            "87 1:-0.827642 2:-0.86087 3:-0.623062 4:-0.889684 5:-0.906405 6:-0.900596 7:-0.96642 8:-0.809927 9:-0.768958 10:-0.998724 11:-0.919646 12:-0.046389 \n",
            "86 1:-0.998916 2:-1 3:-0.481105 4:-0.900226 5:-0.940173 6:-0.900596 7:-0.892545 8:-0.684133 9:-0.858696 10:-1 11:-0.912462 12:-0.00127185 \n"
          ]
        }
      ]
    },
    {
      "cell_type": "markdown",
      "source": [
        "## Dataset"
      ],
      "metadata": {
        "id": "XhRSvF356eCK"
      }
    },
    {
      "cell_type": "code",
      "source": [
        "from sklearn.datasets import load_svmlight_file\n",
        "\n",
        "class MyDataset(data_utils.Dataset):\n",
        "    def __init__(self, dataset):\n",
        "        super().__init__()\n",
        "        self.dataset = dataset\n",
        "        with open(self.dataset, \"rb\") as f:\n",
        "            self.X, self.y = load_svmlight_file(f)\n",
        "\n",
        "    def __len__(self):\n",
        "        return self.X.shape[0]\n",
        "    \n",
        "    def __getitem__(self, idx):\n",
        "        X_tensor = torch.Tensor(self.X[idx].todense()).squeeze(0)\n",
        "        y_tensor = torch.Tensor([self.y[idx]]).squeeze(0)\n",
        "        return X_tensor, y_tensor\n",
        "\n",
        "class DataSampler:\n",
        "    def __init__(self, dataloader):\n",
        "        self.dataloader = dataloader\n",
        "        self.reset_sampler()\n",
        "\n",
        "    def reset_sampler(self):\n",
        "        self.sampler = iter(self.dataloader)\n",
        "\n",
        "    def sample(self):\n",
        "        try:\n",
        "            x, y = next(self.sampler)\n",
        "        except StopIteration:\n",
        "            self.reset_sampler()\n",
        "            x, y = next(self.sampler)\n",
        "        return x, y"
      ],
      "metadata": {
        "id": "KO663xAfq-p8"
      },
      "execution_count": 30,
      "outputs": []
    },
    {
      "cell_type": "markdown",
      "source": [
        "## Optimizer"
      ],
      "metadata": {
        "id": "20qUSO6P6fkS"
      }
    },
    {
      "cell_type": "code",
      "source": [
        "class LocalSGD(torch.optim.SGD):\n",
        "    def aggregate(self):\n",
        "        # This function simply averages parameters across all groups/models\n",
        "        num_models = len(self.param_groups)\n",
        "        num_params = len(self.param_groups[0][\"params\"])\n",
        "        aggregated_params = [None] * num_params\n",
        "        # Find average per parameter\n",
        "        for param_idx in range(num_params):\n",
        "            param_list = [self.param_groups[model_idx][\"params\"][param_idx].data\n",
        "                          for model_idx in range(num_models)]\n",
        "            aggregated_params[param_idx] = torch.mean(torch.stack(param_list))\n",
        "        # Synchronize\n",
        "        for model_idx in range(num_models):\n",
        "            for param_idx in range(num_params):\n",
        "                self.param_groups[model_idx][\"params\"][param_idx] = aggregated_params[param_idx]"
      ],
      "metadata": {
        "id": "QYIsRRlUreDu"
      },
      "execution_count": 31,
      "outputs": []
    },
    {
      "cell_type": "markdown",
      "source": [
        "### Aggregation Schedule"
      ],
      "metadata": {
        "id": "IkyT6KIE60X-"
      }
    },
    {
      "cell_type": "code",
      "source": [
        "# The schedule is just the iterations in which we aggregate\n",
        "def n_shot_schedule(N, T):\n",
        "    return {i for i in range(T-1, 0, -T // N)}\n",
        "\n",
        "aggregation_idxs = n_shot_schedule(1, args.num_iters)\n",
        "aggregation_idxs"
      ],
      "metadata": {
        "id": "9leOIBxH6299",
        "colab": {
          "base_uri": "https://localhost:8080/"
        },
        "outputId": "0fbd7d91-317e-4c97-e315-e16427fb4cf2"
      },
      "execution_count": 32,
      "outputs": [
        {
          "output_type": "execute_result",
          "data": {
            "text/plain": [
              "{99}"
            ]
          },
          "metadata": {},
          "execution_count": 32
        }
      ]
    },
    {
      "cell_type": "markdown",
      "source": [
        "## Model"
      ],
      "metadata": {
        "id": "Qlp2pd1O6hRT"
      }
    },
    {
      "cell_type": "code",
      "source": [
        "def create_model():\n",
        "    return nn.Linear(args.feature_dim, args.output_dim)"
      ],
      "metadata": {
        "id": "M2bu9BPj6Zkk"
      },
      "execution_count": 33,
      "outputs": []
    },
    {
      "cell_type": "markdown",
      "source": [
        "# Training"
      ],
      "metadata": {
        "id": "kTLUvV-S6if-"
      }
    },
    {
      "cell_type": "markdown",
      "source": [
        "Train prep"
      ],
      "metadata": {
        "id": "iLyNaI6y6kha"
      }
    },
    {
      "cell_type": "code",
      "source": [
        "dataset = MyDataset(args.dataset)\n",
        "test_len = int(args.test_size * len(dataset))\n",
        "trainset, testset = data_utils.random_split(dataset, [len(dataset) - test_len, test_len])\n",
        "trainloader = data_utils.DataLoader(trainset, batch_size=args.batch_size, shuffle=True, pin_memory=True)\n",
        "testloader = data_utils.DataLoader(testset, batch_size=len(testset), shuffle=False, pin_memory=True)\n",
        "\n",
        "# Define a group of models (optimized in parallel) and a singled out model (optimized alone)\n",
        "one_model = create_model().to(device=args.device)\n",
        "one_optimizer = torch.optim.SGD(one_model.parameters(), lr=args.base_lr)\n",
        "models = [create_model().to(device=args.device) for i in range(args.num_models)]\n",
        "param_groups = [{\"params\": models[i].parameters(), \"lr\": args.lrs[i]} for i in range(args.num_models)]\n",
        "optimizer = LocalSGD(param_groups, lr=args.base_lr)\n",
        "\n",
        "# MSE loss\n",
        "loss_fn = nn.MSELoss().to(device=args.device)"
      ],
      "metadata": {
        "id": "b2auF1D-vm6X"
      },
      "execution_count": 34,
      "outputs": []
    },
    {
      "cell_type": "code",
      "source": [
        "class AverageMeter(object):\n",
        "    \"\"\"Computes and stores the average and current value\"\"\"\n",
        "    def __init__(self, name, fmt=':f'):\n",
        "        self.name = name\n",
        "        self.fmt = fmt\n",
        "        self.reset()\n",
        "\n",
        "    def reset(self):\n",
        "        self.val = 0\n",
        "        self.avg = 0\n",
        "        self.sum = 0\n",
        "        self.count = 0\n",
        "\n",
        "    def update(self, val, n=1):\n",
        "        self.val = val\n",
        "        self.sum += val * n\n",
        "        self.count += n\n",
        "        self.avg = self.sum / self.count\n",
        "\n",
        "    def __str__(self):\n",
        "        fmtstr = '{name} {val' + self.fmt + '} ({avg' + self.fmt + '})'\n",
        "        return fmtstr.format(**self.__dict__)\n",
        "\n",
        "\n",
        "class ProgressMeter(object):\n",
        "    def __init__(self, num_batches, meters, prefix=\"\"):\n",
        "        self.batch_fmtstr = self._get_batch_fmtstr(num_batches)\n",
        "        self.meters = meters\n",
        "        self.prefix = prefix\n",
        "\n",
        "    def display(self, batch):\n",
        "        entries = [self.prefix + self.batch_fmtstr.format(batch)]\n",
        "        entries += [str(meter) for meter in self.meters]\n",
        "        print('\\t'.join(entries))\n",
        "\n",
        "    def _get_batch_fmtstr(self, num_batches):\n",
        "        num_digits = len(str(num_batches // 1))\n",
        "        fmt = '{:' + str(num_digits) + 'd}'\n",
        "        return '[' + fmt + '/' + fmt.format(num_batches) + ']'\n"
      ],
      "metadata": {
        "id": "nZPcfxrKOA-N"
      },
      "execution_count": 35,
      "outputs": []
    },
    {
      "cell_type": "code",
      "source": [
        "def validate(testloader, model):\n",
        "    running_loss = 0.0\n",
        "    running_acc = 0\n",
        "    for x, y in testloader:\n",
        "        x = x.to(device=args.device)\n",
        "        y = y.to(device=args.device)\n",
        "        y_pred = model(x).view_as(y)\n",
        "        loss = loss_fn(y_pred, y)\n",
        "        acc = torch.sum(y_pred.round() == y) / y.size(0)\n",
        "        running_loss += loss.item()\n",
        "        running_acc += acc.item()\n",
        "    mean_loss = running_loss / len(testloader)\n",
        "    mean_acc = running_acc / len(testloader)\n",
        "    return mean_loss, mean_acc\n",
        "\n",
        "def train(trainloader, testloader, models, one_model,\n",
        "          optimizer, one_optimizer, loss_fn, aggregation_idxs, T, track_model=\"best\"):\n",
        "    data_sampler = DataSampler(trainloader)\n",
        "    stats = defaultdict(list)\n",
        "    train_losses = AverageMeter(\"train_loss\", \":.4f\")\n",
        "    val_losses = AverageMeter(\"val_loss\", \":.4f\")\n",
        "    one_train_losses = AverageMeter(\"one_train_loss\", \":.4f\")\n",
        "    one_val_losses = AverageMeter(\"one_val_loss\", \":.4f\")\n",
        "    progress = ProgressMeter(T, [train_losses, val_losses, one_train_losses, one_val_losses])\n",
        "\n",
        "    for t in range(T):\n",
        "        model_losses = []\n",
        "        # model loop should be run in parallel\n",
        "        for model in models:\n",
        "            x, y = data_sampler.sample() # assuming a central dataset\n",
        "            x = x.to(device=args.device)\n",
        "            y = y.to(device=args.device)\n",
        "            # Train each model\n",
        "            y_pred = model(x).view_as(y)\n",
        "            loss = loss_fn(y_pred, y)\n",
        "            model_losses.append(loss.item())\n",
        "            optimizer.zero_grad()\n",
        "            loss.backward()\n",
        "            optimizer.step()\n",
        "            # Train the singled out model in every step\n",
        "            y_pred = one_model(x).view_as(y)\n",
        "            loss = loss_fn(y_pred, y)\n",
        "            one_train_loss = loss.item()\n",
        "            one_optimizer.zero_grad()\n",
        "            loss.backward()\n",
        "            one_optimizer.step()\n",
        "        # Aggregate the gradient steps by averaging the parameters\n",
        "        if t in aggregation_idxs:\n",
        "            print(\"Aggregating parameters...\")\n",
        "            optimizer.aggregate()\n",
        "        \n",
        "        # Track min model loss?\n",
        "        if track_model == \"best\":\n",
        "            train_loss = min(model_losses)\n",
        "            model_idx = model_losses.index(train_loss)\n",
        "        elif track_model == \"random\":\n",
        "            model_idx = np.random.randint(len(models))\n",
        "            train_loss = model_losses[model_idx]\n",
        "        elif isinstance(track_model, int) and track_model in range(len(models)):\n",
        "            model_idx = track_model\n",
        "            train_loss = model_losses[model_idx]\n",
        "        else:\n",
        "            raise Exception(f\"track_model '{track_model}' not found.\")\n",
        "\n",
        "        # Validation\n",
        "        train_losses.update(train_loss)\n",
        "        one_train_losses.update(one_train_loss)\n",
        "        val_loss, _ = validate(testloader, models[model_idx])\n",
        "        one_val_loss, _ = validate(testloader, one_model)\n",
        "        val_losses.update(val_loss)\n",
        "        one_val_losses.update(one_val_loss)\n",
        "        progress.display(t)\n",
        "\n",
        "        stats[\"train_loss\"] += [train_loss]\n",
        "        stats[\"val_loss\"] += [val_loss]\n",
        "        stats[\"one_train_loss\"] += [one_train_loss]\n",
        "        stats[\"one_val_loss\"] += [one_val_loss]\n",
        "        #print(f\"[{t}/{T}]\" + \" \".join(f\"{k} = {v[-1]:.4f}\" for k, v in stats.items()))\n",
        "    \n",
        "    return stats\n",
        "\n",
        "stats = train(trainloader, testloader,\n",
        "              models, one_model, optimizer, one_optimizer, loss_fn,\n",
        "              aggregation_idxs, args.num_iters)"
      ],
      "metadata": {
        "id": "pJaOYD5m7t7W",
        "colab": {
          "base_uri": "https://localhost:8080/"
        },
        "outputId": "231d0d47-f970-4f3f-9c68-d719a7110378"
      },
      "execution_count": 36,
      "outputs": [
        {
          "output_type": "stream",
          "name": "stdout",
          "text": [
            "[  0/100]\ttrain_loss 5577.1958 (5577.1958)\tval_loss 5332.0830 (5332.0830)\tone_train_loss 46.0541 (46.0541)\tone_val_loss 293.3694 (293.3694)\n",
            "[  1/100]\ttrain_loss 2846.4146 (4211.8052)\tval_loss 3362.5754 (4347.3292)\tone_train_loss 27.3343 (36.6942)\tone_val_loss 234.2385 (263.8039)\n",
            "[  2/100]\ttrain_loss 833.6352 (3085.7485)\tval_loss 4244.8228 (4313.1604)\tone_train_loss 11.7030 (28.3638)\tone_val_loss 215.8836 (247.8305)\n",
            "[  3/100]\ttrain_loss 983.6738 (2560.2298)\tval_loss 2404.0840 (3835.8913)\tone_train_loss 95.7324 (45.2060)\tone_val_loss 214.9976 (239.6223)\n",
            "[  4/100]\ttrain_loss 844.0026 (2216.9844)\tval_loss 1046.6838 (3278.0498)\tone_train_loss 14.7268 (39.1101)\tone_val_loss 208.8945 (233.4767)\n",
            "[  5/100]\ttrain_loss 281.2109 (1894.3555)\tval_loss 859.9387 (2875.0313)\tone_train_loss 8.9538 (34.0841)\tone_val_loss 206.9953 (229.0632)\n",
            "[  6/100]\ttrain_loss 0.3377 (1623.7815)\tval_loss 616.7518 (2552.4199)\tone_train_loss 0.0035 (29.2154)\tone_val_loss 199.2384 (224.8025)\n",
            "[  7/100]\ttrain_loss 35.1748 (1425.2057)\tval_loss 374.4659 (2280.1757)\tone_train_loss 193.8745 (49.7978)\tone_val_loss 242.9331 (227.0688)\n",
            "[  8/100]\ttrain_loss 0.7766 (1266.9358)\tval_loss 378.5785 (2068.8871)\tone_train_loss 58.2160 (50.7332)\tone_val_loss 189.0538 (222.8449)\n",
            "[  9/100]\ttrain_loss 54.4933 (1145.6915)\tval_loss 308.7696 (1892.8753)\tone_train_loss 4741.7510 (519.8350)\tone_val_loss 262.9843 (226.8589)\n",
            "[ 10/100]\ttrain_loss 4.0035 (1041.9017)\tval_loss 323.5260 (1750.2072)\tone_train_loss 50.6153 (477.1786)\tone_val_loss 179.5228 (222.5556)\n",
            "[ 11/100]\ttrain_loss 44.6990 (958.8015)\tval_loss 261.9905 (1626.1892)\tone_train_loss 16.8642 (438.8191)\tone_val_loss 180.1047 (219.0180)\n",
            "[ 12/100]\ttrain_loss 0.7557 (885.1056)\tval_loss 266.8653 (1521.6258)\tone_train_loss 0.4237 (405.0964)\tone_val_loss 175.8058 (215.6940)\n",
            "[ 13/100]\ttrain_loss 10.8222 (822.6568)\tval_loss 264.8065 (1431.8530)\tone_train_loss 20.8937 (377.6533)\tone_val_loss 176.0222 (212.8603)\n",
            "[ 14/100]\ttrain_loss 20.3963 (769.1728)\tval_loss 230.0915 (1351.7355)\tone_train_loss 22.5376 (353.9789)\tone_val_loss 169.0709 (209.9410)\n",
            "[ 15/100]\ttrain_loss 0.0833 (721.1047)\tval_loss 243.3160 (1282.4593)\tone_train_loss 23.6796 (333.3352)\tone_val_loss 188.9023 (208.6261)\n",
            "[ 16/100]\ttrain_loss 0.1369 (678.6948)\tval_loss 243.1541 (1221.3237)\tone_train_loss 3.3361 (313.9235)\tone_val_loss 169.6708 (206.3346)\n",
            "[ 17/100]\ttrain_loss 4.3228 (641.2297)\tval_loss 226.4032 (1166.0504)\tone_train_loss 13.7299 (297.2461)\tone_val_loss 191.5899 (205.5154)\n",
            "[ 18/100]\ttrain_loss 0.3444 (607.4989)\tval_loss 242.9785 (1117.4676)\tone_train_loss 220.1888 (293.1904)\tone_val_loss 204.3175 (205.4524)\n",
            "[ 19/100]\ttrain_loss 1.1193 (577.1799)\tval_loss 251.7798 (1074.1832)\tone_train_loss 6.0823 (278.8350)\tone_val_loss 162.6306 (203.3113)\n",
            "[ 20/100]\ttrain_loss 1.9581 (549.7884)\tval_loss 243.0069 (1034.6034)\tone_train_loss 0.8510 (265.5977)\tone_val_loss 166.2239 (201.5452)\n",
            "[ 21/100]\ttrain_loss 0.0000 (524.7980)\tval_loss 225.7289 (997.8364)\tone_train_loss 28.3001 (254.8114)\tone_val_loss 158.9678 (199.6099)\n",
            "[ 22/100]\ttrain_loss 10.6094 (502.4420)\tval_loss 232.9092 (964.5787)\tone_train_loss 126.5400 (249.2344)\tone_val_loss 237.1642 (201.2427)\n",
            "[ 23/100]\ttrain_loss 0.8129 (481.5408)\tval_loss 233.9827 (934.1372)\tone_train_loss 1.6859 (238.9199)\tone_val_loss 149.9864 (199.1070)\n",
            "[ 24/100]\ttrain_loss 2.6674 (462.3859)\tval_loss 231.7556 (906.0419)\tone_train_loss 0.0024 (229.3632)\tone_val_loss 169.8310 (197.9360)\n",
            "[ 25/100]\ttrain_loss 0.1076 (444.6059)\tval_loss 232.1452 (880.1228)\tone_train_loss 1.9776 (220.6176)\tone_val_loss 151.0019 (196.1308)\n",
            "[ 26/100]\ttrain_loss 0.0206 (428.1398)\tval_loss 229.9513 (856.0424)\tone_train_loss 111.4771 (216.5754)\tone_val_loss 153.1673 (194.5396)\n",
            "[ 27/100]\ttrain_loss 1.6064 (412.9065)\tval_loss 243.9137 (834.1807)\tone_train_loss 0.1107 (208.8445)\tone_val_loss 155.3857 (193.1412)\n",
            "[ 28/100]\ttrain_loss 0.2454 (398.6768)\tval_loss 255.8483 (814.2382)\tone_train_loss 84.7422 (204.5651)\tone_val_loss 152.3307 (191.7340)\n",
            "[ 29/100]\ttrain_loss 0.0190 (385.3882)\tval_loss 255.6173 (795.6175)\tone_train_loss 23.7618 (198.5383)\tone_val_loss 150.1120 (190.3466)\n",
            "[ 30/100]\ttrain_loss 2.2567 (373.0291)\tval_loss 212.8309 (776.8179)\tone_train_loss 87.6266 (194.9605)\tone_val_loss 147.4427 (188.9626)\n",
            "[ 31/100]\ttrain_loss 0.2299 (361.3791)\tval_loss 212.7354 (759.1903)\tone_train_loss 10.2315 (189.1877)\tone_val_loss 144.9059 (187.5858)\n",
            "[ 32/100]\ttrain_loss 0.1069 (350.4315)\tval_loss 233.1562 (743.2499)\tone_train_loss 69.1800 (185.5511)\tone_val_loss 146.5390 (186.3420)\n",
            "[ 33/100]\ttrain_loss 0.3551 (340.1351)\tval_loss 230.1115 (728.1576)\tone_train_loss 49.7750 (181.5577)\tone_val_loss 150.8755 (185.2988)\n",
            "[ 34/100]\ttrain_loss 0.5668 (330.4332)\tval_loss 230.4095 (713.9362)\tone_train_loss 146.2333 (180.5485)\tone_val_loss 153.0721 (184.3781)\n",
            "[ 35/100]\ttrain_loss 0.2370 (321.2611)\tval_loss 230.6286 (700.5110)\tone_train_loss 8.9160 (175.7809)\tone_val_loss 164.7439 (183.8327)\n",
            "[ 36/100]\ttrain_loss 0.8961 (312.6025)\tval_loss 244.6342 (688.1900)\tone_train_loss 0.0217 (171.0306)\tone_val_loss 153.9246 (183.0243)\n",
            "[ 37/100]\ttrain_loss 0.0075 (304.3764)\tval_loss 232.6400 (676.2018)\tone_train_loss 33.0167 (167.3987)\tone_val_loss 159.3056 (182.4002)\n",
            "[ 38/100]\ttrain_loss 0.0672 (296.5736)\tval_loss 232.4656 (664.8240)\tone_train_loss 104.4462 (165.7845)\tone_val_loss 162.9517 (181.9015)\n",
            "[ 39/100]\ttrain_loss 3.6982 (289.2517)\tval_loss 210.6085 (653.4686)\tone_train_loss 0.8590 (161.6614)\tone_val_loss 146.7589 (181.0229)\n",
            "[ 40/100]\ttrain_loss 0.1546 (282.2005)\tval_loss 210.9316 (642.6750)\tone_train_loss 0.5034 (157.7307)\tone_val_loss 156.6493 (180.4284)\n",
            "[ 41/100]\ttrain_loss 0.4381 (275.4919)\tval_loss 215.7823 (632.5109)\tone_train_loss 16.5403 (154.3690)\tone_val_loss 152.9840 (179.7750)\n",
            "[ 42/100]\ttrain_loss 1.5516 (269.1212)\tval_loss 208.8505 (622.6583)\tone_train_loss 3658.2249 (235.8540)\tone_val_loss 412.1945 (185.1801)\n",
            "[ 43/100]\ttrain_loss 0.0805 (263.0066)\tval_loss 200.9838 (613.0748)\tone_train_loss 42.8004 (231.4665)\tone_val_loss 144.5231 (184.2561)\n",
            "[ 44/100]\ttrain_loss 0.4032 (257.1710)\tval_loss 244.8709 (604.8925)\tone_train_loss 83.4007 (228.1761)\tone_val_loss 155.4367 (183.6157)\n",
            "[ 45/100]\ttrain_loss 0.1588 (251.5838)\tval_loss 227.7394 (596.6935)\tone_train_loss 65.0357 (224.6296)\tone_val_loss 142.0659 (182.7124)\n",
            "[ 46/100]\ttrain_loss 0.1727 (246.2346)\tval_loss 334.3818 (591.1124)\tone_train_loss 5.7532 (219.9726)\tone_val_loss 136.3054 (181.7250)\n",
            "[ 47/100]\ttrain_loss 0.5398 (241.1160)\tval_loss 224.4738 (583.4741)\tone_train_loss 10.0467 (215.5992)\tone_val_loss 134.9391 (180.7503)\n",
            "[ 48/100]\ttrain_loss 0.0000 (236.1952)\tval_loss 222.2375 (576.1020)\tone_train_loss 75.5323 (212.7407)\tone_val_loss 195.4226 (181.0497)\n",
            "[ 49/100]\ttrain_loss 0.0082 (231.4715)\tval_loss 240.1641 (569.3832)\tone_train_loss 41.7635 (209.3211)\tone_val_loss 138.0196 (180.1891)\n",
            "[ 50/100]\ttrain_loss 0.1477 (226.9357)\tval_loss 239.8347 (562.9215)\tone_train_loss 121.2033 (207.5933)\tone_val_loss 133.2935 (179.2696)\n",
            "[ 51/100]\ttrain_loss 3.3565 (222.6361)\tval_loss 228.2343 (556.4852)\tone_train_loss 121.4909 (205.9375)\tone_val_loss 136.9787 (178.4563)\n",
            "[ 52/100]\ttrain_loss 0.8712 (218.4519)\tval_loss 228.7552 (550.3016)\tone_train_loss 27.7189 (202.5749)\tone_val_loss 195.7793 (178.7832)\n",
            "[ 53/100]\ttrain_loss 0.0434 (214.4073)\tval_loss 209.2562 (543.9859)\tone_train_loss 0.0178 (198.8238)\tone_val_loss 145.3730 (178.1645)\n",
            "[ 54/100]\ttrain_loss 0.1969 (210.5125)\tval_loss 206.4347 (537.8486)\tone_train_loss 265.2826 (200.0322)\tone_val_loss 134.3666 (177.3682)\n",
            "[ 55/100]\ttrain_loss 4.6793 (206.8370)\tval_loss 258.0671 (532.8525)\tone_train_loss 21.6362 (196.8465)\tone_val_loss 143.8585 (176.7698)\n",
            "[ 56/100]\ttrain_loss 5.9297 (203.3123)\tval_loss 228.7596 (527.5176)\tone_train_loss 114.9343 (195.4095)\tone_val_loss 154.1186 (176.3724)\n",
            "[ 57/100]\ttrain_loss 1.5791 (199.8341)\tval_loss 212.9154 (522.0934)\tone_train_loss 96.7247 (193.7080)\tone_val_loss 131.0883 (175.5916)\n",
            "[ 58/100]\ttrain_loss 0.2049 (196.4506)\tval_loss 223.7249 (517.0363)\tone_train_loss 1.0675 (190.4429)\tone_val_loss 132.1134 (174.8547)\n",
            "[ 59/100]\ttrain_loss 0.4731 (193.1843)\tval_loss 211.6911 (511.9472)\tone_train_loss 100.0438 (188.9363)\tone_val_loss 146.5304 (174.3826)\n",
            "[ 60/100]\ttrain_loss 0.0404 (190.0180)\tval_loss 211.5719 (507.0230)\tone_train_loss 91.1508 (187.3332)\tone_val_loss 131.7755 (173.6841)\n",
            "[ 61/100]\ttrain_loss 0.4920 (186.9611)\tval_loss 195.7423 (502.0024)\tone_train_loss 6.0310 (184.4090)\tone_val_loss 130.7274 (172.9913)\n",
            "[ 62/100]\ttrain_loss 0.0543 (183.9943)\tval_loss 231.7955 (497.7134)\tone_train_loss 0.1444 (181.4842)\tone_val_loss 130.4985 (172.3168)\n",
            "[ 63/100]\ttrain_loss 1.2285 (181.1386)\tval_loss 172.3469 (492.6295)\tone_train_loss 65.9865 (179.6795)\tone_val_loss 139.4092 (171.8026)\n",
            "[ 64/100]\ttrain_loss 0.3001 (178.3565)\tval_loss 234.0993 (488.6521)\tone_train_loss 1.6053 (176.9399)\tone_val_loss 130.8088 (171.1720)\n",
            "[ 65/100]\ttrain_loss 0.5737 (175.6628)\tval_loss 229.0875 (484.7193)\tone_train_loss 0.2478 (174.2628)\tone_val_loss 142.0503 (170.7307)\n",
            "[ 66/100]\ttrain_loss 0.2702 (173.0450)\tval_loss 214.9133 (480.6924)\tone_train_loss 20.3828 (171.9660)\tone_val_loss 149.6109 (170.4155)\n",
            "[ 67/100]\ttrain_loss 0.1248 (170.5021)\tval_loss 175.0830 (476.1981)\tone_train_loss 8.7477 (169.5658)\tone_val_loss 137.5033 (169.9315)\n",
            "[ 68/100]\ttrain_loss 0.0023 (168.0311)\tval_loss 175.0490 (471.8336)\tone_train_loss 16.7575 (167.3512)\tone_val_loss 139.3296 (169.4880)\n",
            "[ 69/100]\ttrain_loss 0.4298 (165.6367)\tval_loss 218.3465 (468.2124)\tone_train_loss 98.0327 (166.3609)\tone_val_loss 141.3009 (169.0853)\n",
            "[ 70/100]\ttrain_loss 0.6020 (163.3123)\tval_loss 173.9789 (464.0683)\tone_train_loss 26.2478 (164.3875)\tone_val_loss 134.3674 (168.5963)\n",
            "[ 71/100]\ttrain_loss 0.6675 (161.0534)\tval_loss 200.6779 (460.4101)\tone_train_loss 65.9462 (163.0202)\tone_val_loss 131.1623 (168.0764)\n",
            "[ 72/100]\ttrain_loss 0.0680 (158.8481)\tval_loss 177.3331 (456.5323)\tone_train_loss 160.9239 (162.9915)\tone_val_loss 131.4614 (167.5748)\n",
            "[ 73/100]\ttrain_loss 0.0006 (156.7015)\tval_loss 174.5606 (452.7219)\tone_train_loss 3141.2219 (203.2379)\tone_val_loss 168.9379 (167.5933)\n",
            "[ 74/100]\ttrain_loss 0.6074 (154.6202)\tval_loss 204.1917 (449.4081)\tone_train_loss 73.9869 (201.5145)\tone_val_loss 133.7528 (167.1420)\n",
            "[ 75/100]\ttrain_loss 1.1732 (152.6012)\tval_loss 224.8114 (446.4529)\tone_train_loss 87.9180 (200.0198)\tone_val_loss 145.0519 (166.8514)\n",
            "[ 76/100]\ttrain_loss 0.1935 (150.6219)\tval_loss 224.4112 (443.5693)\tone_train_loss 49.8798 (198.0700)\tone_val_loss 161.0920 (166.7766)\n",
            "[ 77/100]\ttrain_loss 0.2110 (148.6935)\tval_loss 223.7291 (440.7508)\tone_train_loss 3.9834 (195.5817)\tone_val_loss 130.4359 (166.3107)\n",
            "[ 78/100]\ttrain_loss 0.0075 (146.8114)\tval_loss 202.7762 (437.7385)\tone_train_loss 70.5172 (193.9986)\tone_val_loss 147.9926 (166.0788)\n",
            "[ 79/100]\ttrain_loss 0.0042 (144.9763)\tval_loss 233.3911 (435.1841)\tone_train_loss 36.7283 (192.0327)\tone_val_loss 127.8879 (165.6014)\n",
            "[ 80/100]\ttrain_loss 0.0340 (143.1869)\tval_loss 208.0471 (432.3800)\tone_train_loss 16.6709 (189.8677)\tone_val_loss 128.8809 (165.1481)\n",
            "[ 81/100]\ttrain_loss 0.5920 (141.4480)\tval_loss 207.2125 (429.6340)\tone_train_loss 30.2062 (187.9207)\tone_val_loss 126.7420 (164.6797)\n",
            "[ 82/100]\ttrain_loss 0.3696 (139.7482)\tval_loss 199.1393 (426.8570)\tone_train_loss 14.1033 (185.8265)\tone_val_loss 126.5786 (164.2207)\n",
            "[ 83/100]\ttrain_loss 0.0163 (138.0848)\tval_loss 223.8070 (424.4397)\tone_train_loss 172.2802 (185.6652)\tone_val_loss 125.2018 (163.7562)\n",
            "[ 84/100]\ttrain_loss 0.0974 (136.4614)\tval_loss 225.9944 (422.1051)\tone_train_loss 3.0690 (183.5170)\tone_val_loss 126.1479 (163.3137)\n",
            "[ 85/100]\ttrain_loss 0.0016 (134.8746)\tval_loss 215.4564 (419.7022)\tone_train_loss 1123.3217 (194.4450)\tone_val_loss 187.8345 (163.5988)\n",
            "[ 86/100]\ttrain_loss 0.0344 (133.3247)\tval_loss 214.1124 (417.3391)\tone_train_loss 38.3373 (192.6506)\tone_val_loss 138.1767 (163.3066)\n",
            "[ 87/100]\ttrain_loss 0.0503 (131.8103)\tval_loss 208.5207 (414.9661)\tone_train_loss 277.3448 (193.6131)\tone_val_loss 157.0481 (163.2355)\n",
            "[ 88/100]\ttrain_loss 0.2754 (130.3323)\tval_loss 203.9561 (412.5952)\tone_train_loss 24.4133 (191.7119)\tone_val_loss 127.2235 (162.8309)\n",
            "[ 89/100]\ttrain_loss 0.7274 (128.8923)\tval_loss 209.4331 (410.3379)\tone_train_loss 1.4320 (189.5977)\tone_val_loss 130.3111 (162.4695)\n",
            "[ 90/100]\ttrain_loss 19.4907 (127.6901)\tval_loss 205.4631 (408.0865)\tone_train_loss 270.9991 (190.4922)\tone_val_loss 133.7316 (162.1537)\n",
            "[ 91/100]\ttrain_loss 0.0740 (126.3029)\tval_loss 205.2668 (405.8819)\tone_train_loss 24.1053 (188.6837)\tone_val_loss 160.8287 (162.1393)\n",
            "[ 92/100]\ttrain_loss 1.0483 (124.9561)\tval_loss 166.6461 (403.3095)\tone_train_loss 276.7449 (189.6306)\tone_val_loss 128.2967 (161.7754)\n",
            "[ 93/100]\ttrain_loss 0.4065 (123.6311)\tval_loss 217.2079 (401.3297)\tone_train_loss 0.7490 (187.6212)\tone_val_loss 156.5233 (161.7196)\n",
            "[ 94/100]\ttrain_loss 0.7041 (122.3372)\tval_loss 215.7372 (399.3761)\tone_train_loss 85.1649 (186.5427)\tone_val_loss 134.3563 (161.4315)\n",
            "[ 95/100]\ttrain_loss 0.8754 (121.0719)\tval_loss 202.6257 (397.3266)\tone_train_loss 45.5506 (185.0741)\tone_val_loss 143.8046 (161.2479)\n",
            "[ 96/100]\ttrain_loss 0.2792 (119.8266)\tval_loss 218.4073 (395.4821)\tone_train_loss 48.7942 (183.6691)\tone_val_loss 122.8288 (160.8518)\n",
            "[ 97/100]\ttrain_loss 0.1350 (118.6053)\tval_loss 203.8164 (393.5263)\tone_train_loss 185.9489 (183.6924)\tone_val_loss 124.1001 (160.4768)\n",
            "[ 98/100]\ttrain_loss 0.0294 (117.4076)\tval_loss 204.9746 (391.6218)\tone_train_loss 6.2850 (181.9004)\tone_val_loss 121.6484 (160.0846)\n",
            "Aggregating parameters...\n",
            "[ 99/100]\ttrain_loss 0.1692 (116.2352)\tval_loss 194.2687 (389.6482)\tone_train_loss 6.8976 (180.1503)\tone_val_loss 132.7634 (159.8114)\n"
          ]
        }
      ]
    },
    {
      "cell_type": "markdown",
      "source": [
        "# Results"
      ],
      "metadata": {
        "id": "DzSDjkY4_z_8"
      }
    },
    {
      "cell_type": "code",
      "source": [
        "from math import log\n",
        "log_scale = True\n",
        "\n",
        "def plot_lines(losses_dict, title=\"\", filename=None, ):\n",
        "    plt.figure(figsize=(10,5))\n",
        "    plt.title(title)\n",
        "    for label, losses in losses_dict.items():\n",
        "        plt.plot(losses, label=label)\n",
        "    plt.xlabel(\"t\")\n",
        "    plt.legend()\n",
        "    if filename is not None:\n",
        "        plt.savefig(filename)\n",
        "    plt.show()\n",
        "    plt.close()\n",
        "\n",
        "apply_log = lambda v: list(map(log, v))\n",
        "train_losses = {k: apply_log(v) if log_scale else v for k, v in stats.items() if \"train_loss\" in k}\n",
        "val_losses = {k: apply_log(v) if log_scale else v for k, v in stats.items() if \"val_loss\" in k}\n",
        "accuracies = {k: v for k, v in stats.items() if \"acc\" in k}\n",
        "plot_lines(train_losses, \"Training Loss\" + (\" (log scale)\" if log_scale else \"\"))\n",
        "plot_lines(val_losses, \"Validation Loss\" + (\" (log scale)\" if log_scale else \"\"))\n",
        "#plot_lines(accuracies, \"Accuracy\")"
      ],
      "metadata": {
        "colab": {
          "base_uri": "https://localhost:8080/",
          "height": 683
        },
        "id": "dPMTF9o0otkI",
        "outputId": "0a789d59-5a02-4c14-cdf6-d7027d03e37e"
      },
      "execution_count": 37,
      "outputs": [
        {
          "output_type": "display_data",
          "data": {
            "image/png": "[encoded data removed]",
            "text/plain": [
              "<Figure size 720x360 with 1 Axes>"
            ]
          },
          "metadata": {
            "needs_background": "light"
          }
        },
        {
          "output_type": "display_data",
          "data": {
            "image/png": "[encoded data removed]",
            "text/plain": [
              "<Figure size 720x360 with 1 Axes>"
            ]
          },
          "metadata": {
            "needs_background": "light"
          }
        }
      ]
    },
    {
      "cell_type": "code",
      "source": [
        ""
      ],
      "metadata": {
        "id": "oDkbSEHdA532"
      },
      "execution_count": 37,
      "outputs": []
    }
  ]
}